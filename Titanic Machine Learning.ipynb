{
 "metadata": {
  "name": "",
  "signature": "sha256:969bb3ed9e6bd98ef81580e65c501233e956097818b214218c934b23f2a1740c"
 },
 "nbformat": 3,
 "nbformat_minor": 0,
 "worksheets": [
  {
   "cells": [
    {
     "cell_type": "code",
     "collapsed": false,
     "input": [
      "import pandas as pd\n",
      "import matplotlib.pyplot as plt\n",
      "import numpy as np\n",
      "import seaborn as sb\n",
      "import random"
     ],
     "language": "python",
     "metadata": {},
     "outputs": [],
     "prompt_number": 23
    },
    {
     "cell_type": "code",
     "collapsed": false,
     "input": [
      "%matplotlib inline"
     ],
     "language": "python",
     "metadata": {},
     "outputs": [],
     "prompt_number": 2
    },
    {
     "cell_type": "code",
     "collapsed": false,
     "input": [
      "train = pd.read_csv(\"train.csv\")\n",
      "train.info()"
     ],
     "language": "python",
     "metadata": {},
     "outputs": [
      {
       "output_type": "stream",
       "stream": "stdout",
       "text": [
        "<class 'pandas.core.frame.DataFrame'>\n",
        "Int64Index: 891 entries, 0 to 890\n",
        "Data columns (total 12 columns):\n",
        "PassengerId    891 non-null int64\n",
        "Survived       891 non-null int64\n",
        "Pclass         891 non-null int64\n",
        "Name           891 non-null object\n",
        "Sex            891 non-null object\n",
        "Age            714 non-null float64\n",
        "SibSp          891 non-null int64\n",
        "Parch          891 non-null int64\n",
        "Ticket         891 non-null object\n",
        "Fare           891 non-null float64\n",
        "Cabin          204 non-null object\n",
        "Embarked       889 non-null object\n",
        "dtypes: float64(2), int64(5), object(5)\n",
        "memory usage: 90.5+ KB\n"
       ]
      }
     ],
     "prompt_number": 10
    },
    {
     "cell_type": "heading",
     "level": 3,
     "metadata": {},
     "source": [
      "Pivot Table"
     ]
    },
    {
     "cell_type": "code",
     "collapsed": false,
     "input": [
      "pd.pivot_table(train, index=[\"Sex\"], values=[\"Survived\"]).plot(kind=\"barh\")\n",
      "plt.axvline(x=0.5, linewidth=2, color='r')"
     ],
     "language": "python",
     "metadata": {},
     "outputs": [
      {
       "metadata": {},
       "output_type": "pyout",
       "prompt_number": 11,
       "text": [
        "<matplotlib.lines.Line2D at 0x10d2bce80>"
       ]
      },
      {
       "metadata": {},
       "output_type": "display_data",
       "png": "[encoded data removed]",
       "text": [
        "<matplotlib.figure.Figure at 0x10d2bcc88>"
       ]
      }
     ],
     "prompt_number": 11
    },
    {
     "cell_type": "code",
     "collapsed": false,
     "input": [
      "test_age = pd.read_csv(\"test.csv\")\n",
      "test_age[\"Survived\"] = 0\n",
      "test_age.loc[test_age[\"Sex\"] == \"female\", \"Survived\"] = 1\n",
      "test_age = test_age[[\"PassengerId\", \"Survived\"]]\n",
      "test_age.to_csv(\"gendermodel.csv\", index=False)"
     ],
     "language": "python",
     "metadata": {},
     "outputs": [],
     "prompt_number": 24
    },
    {
     "cell_type": "code",
     "collapsed": false,
     "input": [
      "test_age.info()"
     ],
     "language": "python",
     "metadata": {},
     "outputs": []
    },
    {
     "cell_type": "code",
     "collapsed": false,
     "input": [
      "# train[\"AgeRange\"] = train[\"Age\"].map(lambda x: \"adult\" if x >= 18 else \"child\")\n",
      "# pd.pivot_table(train, index=[\"Sex\", \"AgeRange\"], values=[\"Survived\"]).plot(kind=\"barh\")\n",
      "# plt.axvline(x=0.5, linewidth=2, color='r')\n",
      "\n",
      "#add a column with child or adult\n",
      "train[\"AgeRange\"] = train[\"Age\"].map(lambda x: \"adult\" if x >= 18 else \"child\")\n",
      "pd.pivot_table(train, index=[\"Sex\", \"AgeRange\"], values=[\"Survived\"]).plot(kind=\"barh\")\n",
      "plt.axvline(x=0.5, linewidth=2, color=\"r\")"
     ],
     "language": "python",
     "metadata": {},
     "outputs": [
      {
       "metadata": {},
       "output_type": "pyout",
       "prompt_number": 31,
       "text": [
        "<matplotlib.lines.Line2D at 0x10d7c9978>"
       ]
      },
      {
       "metadata": {},
       "output_type": "display_data",
       "png": "[encoded data removed]",
       "text": [
        "<matplotlib.figure.Figure at 0x10d7d7080>"
       ]
      }
     ],
     "prompt_number": 31
    },
    {
     "cell_type": "code",
     "collapsed": false,
     "input": [
      "pd.pivot_table(train, index=[\"Sex\", \"Pclass\"], values=[\"Survived\"]).plot(kind=\"barh\")\n",
      "plt.axvline(x=0.5, linewidth=2, color=\"r\")"
     ],
     "language": "python",
     "metadata": {},
     "outputs": [
      {
       "metadata": {},
       "output_type": "pyout",
       "prompt_number": 33,
       "text": [
        "<matplotlib.lines.Line2D at 0x10d8f7898>"
       ]
      },
      {
       "metadata": {},
       "output_type": "display_data",
       "png": "[encoded data removed]",
       "text": [
        "<matplotlib.figure.Figure at 0x10d8f64a8>"
       ]
      }
     ],
     "prompt_number": 33
    },
    {
     "cell_type": "code",
     "collapsed": false,
     "input": [],
     "language": "python",
     "metadata": {},
     "outputs": []
    }
   ],
   "metadata": {}
  }
 ]
}